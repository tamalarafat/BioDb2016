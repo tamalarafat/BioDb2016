{
 "cells": [
  {
   "cell_type": "code",
   "execution_count": null,
   "metadata": {
    "collapsed": true
   },
   "outputs": [],
   "source": [
    "def read_file(infile):\n",
    "    fin = open(infile, \"r\")\n",
    "    seq = \"\"\n",
    "    header = None\n",
    "    all_seq = []\n",
    "    for line in fin:\n",
    "        if line.startswith(\">\"):\n",
    "            if header is not None:\n",
    "                all_seq.append((header,seq))\n",
    "            header = line.lstrip(\">\").rstrip(\"\\n\")\n",
    "            seq=\"\"\n",
    "        else:\n",
    "            seq += line.strip()\n",
    "    all_seq.append((header,seq))      \n",
    "    return(all_seq)\n",
    "\n",
    "def gc_count(filename):\n",
    "    fin = read_file(filename)\n",
    "    seq_ids = []\n",
    "    gc_counts = []\n",
    "    for entry in fin:\n",
    "        seq_id = entry[0]\n",
    "        seq = entry[1]\n",
    "        a, t, g, c = DNA(seq)\n",
    "        seq_ids.append(entry[0])\n",
    "        gc_counts.append(float((g + c))*100 / float(a + t + g + c))\n",
    "    max_count = max(gc_counts)\n",
    "    index = [i for i, j in enumerate(gc_counts) if j == max_count]\n",
    "    max_id = seq_ids[index[0]]\n",
    "    return max_id, max_count\n",
    "\n",
    "gc_count('rosalind_gc.txt')"
   ]
  }
 ],
 "metadata": {
  "kernelspec": {
   "display_name": "Python 3",
   "language": "python",
   "name": "python3"
  },
  "language_info": {
   "codemirror_mode": {
    "name": "ipython",
    "version": 3
   },
   "file_extension": ".py",
   "mimetype": "text/x-python",
   "name": "python",
   "nbconvert_exporter": "python",
   "pygments_lexer": "ipython3",
   "version": "3.5.1"
  }
 },
 "nbformat": 4,
 "nbformat_minor": 0
}
