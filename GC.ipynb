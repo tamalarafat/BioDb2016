##GC	Computing GC Content
def read_file(infile):
    fin = open(infile, "r")
    seq = ""
    header = None
    all_seq = []
    for line in fin:
        if line.startswith(">"):
            if header is not None:
                all_seq.append((header,seq))
            header = line.lstrip(">").rstrip("\n")
            seq=""
        else:
            seq += line.strip()
    all_seq.append((header,seq))      
    return(all_seq)

def gc_count(filename):
    fin = read_file(filename)
    seq_ids = []
    gc_counts = []
    for entry in fin:
        seq_id = entry[0]
        seq = entry[1]
        a, t, g, c = DNA(seq)
        seq_ids.append(entry[0])
        gc_counts.append(float((g + c))*100 / float(a + t + g + c))
    max_count = max(gc_counts)
    index = [i for i, j in enumerate(gc_counts) if j == max_count]
    max_id = seq_ids[index[0]]
    return max_id, max_count

gc_count('rosalind_gc.txt')