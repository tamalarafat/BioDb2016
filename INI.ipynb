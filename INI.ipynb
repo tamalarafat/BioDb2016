{
 "cells": [
  {
   "cell_type": "code",
   "execution_count": 3,
   "metadata": {
    "collapsed": false
   },
   "outputs": [
    {
     "name": "stdout",
     "output_type": "stream",
     "text": [
      "{'A': 270, 'C': 236, 'T': 244, 'G': 224}\n"
     ]
    }
   ],
   "source": [
    "def DNA_stats(filename):\n",
    "    \n",
    "    count = {}\n",
    "\n",
    "    for line in open(filename):\n",
    "        if line.startswith('>'):\n",
    "            pass\n",
    "        else:\n",
    "            line = line.rstrip('\\n').rstrip('*')\n",
    "            for i in line:\n",
    "                count[i] = 1 + count.get(i, 0)\n",
    "\n",
    "    return count\n",
    "\n",
    "file = \"rosalind_ini.txt\"\n",
    "count = DNA_stats(file)\n",
    "print (count)"
   ]
  },
  {
   "cell_type": "code",
   "execution_count": null,
   "metadata": {
    "collapsed": true
   },
   "outputs": [],
   "source": []
  }
 ],
 "metadata": {
  "kernelspec": {
   "display_name": "Python 3",
   "language": "python",
   "name": "python3"
  },
  "language_info": {
   "codemirror_mode": {
    "name": "ipython",
    "version": 3
   },
   "file_extension": ".py",
   "mimetype": "text/x-python",
   "name": "python",
   "nbconvert_exporter": "python",
   "pygments_lexer": "ipython3",
   "version": "3.5.1"
  }
 },
 "nbformat": 4,
 "nbformat_minor": 0
}
