{
 "cells": [
  {
   "cell_type": "code",
   "execution_count": 1,
   "metadata": {
    "collapsed": false
   },
   "outputs": [
    {
     "name": "stdout",
     "output_type": "stream",
     "text": [
      "P00740_FA9_HUMAN\n",
      "203 213\n",
      "P10643_CO7_HUMAN\n",
      "202 754\n",
      "P00743_FA10_BOVIN\n",
      "218\n",
      "A8GP89\n",
      "101\n",
      "P02748_CO9_HUMAN\n",
      "277 415\n",
      "P02765_A2HS_HUMAN\n",
      "156 176\n",
      "P01047_KNL2_BOVIN\n",
      "47 87 168 169 197 204 280\n",
      "B0RU89\n",
      "142 148 889 1028\n",
      "P12923\n",
      "49 55 87\n"
     ]
    }
   ],
   "source": [
    "import sys, re\n",
    "from collections import OrderedDict\n",
    "from urllib.request import urlopen\n",
    "\n",
    "\n",
    "def fastaseq_gen(filename):\n",
    "    with open('rosalind_mprt.txt') as f:\n",
    "        for line in f:\n",
    "            uniprot_id = line.strip()\n",
    "\n",
    "            url = 'http://www.uniprot.org/uniprot/{}.fasta'.format(uniprot_id)\n",
    "            with urlopen(url) as f:\n",
    "                fasta_txt = f.read().decode('ascii')\n",
    "\n",
    "            yield (uniprot_id, ''.join(fasta_txt.split('\\n')[1:]))\n",
    "\n",
    "\n",
    "def find_motif(seq):\n",
    "    motif_re = re.compile(r'N[^P][ST][^P]')\n",
    "\n",
    "    positions, last_match = [], 0\n",
    "    while True:\n",
    "        match = motif_re.search(seq, last_match)\n",
    "        if not match:\n",
    "            break\n",
    "\n",
    "        last_match = match.start() + 1\n",
    "        positions.append(last_match)\n",
    "\n",
    "    return positions\n",
    "\n",
    "\n",
    "if __name__ == '__main__':\n",
    "    try:\n",
    "        filename = sys.argv[1]\n",
    "    except IndexError:\n",
    "        print('Missing filename', file=sys.stderr)\n",
    "        sys.exit(1)\n",
    "\n",
    "    for uniprot_id, seq in fastaseq_gen(filename):\n",
    "        motif_positions = find_motif(seq)\n",
    "        if motif_positions:\n",
    "            print(uniprot_id)\n",
    "            print(' '.join(str(pos) for pos in motif_positions))"
   ]
  },
  {
   "cell_type": "code",
   "execution_count": null,
   "metadata": {
    "collapsed": true
   },
   "outputs": [],
   "source": []
  }
 ],
 "metadata": {
  "anaconda-cloud": {},
  "kernelspec": {
   "display_name": "Python 3",
   "language": "python",
   "name": "python3"
  },
  "language_info": {
   "codemirror_mode": {
    "name": "ipython",
    "version": 3
   },
   "file_extension": ".py",
   "mimetype": "text/x-python",
   "name": "python",
   "nbconvert_exporter": "python",
   "pygments_lexer": "ipython3",
   "version": "3.5.1"
  }
 },
 "nbformat": 4,
 "nbformat_minor": 0
}
