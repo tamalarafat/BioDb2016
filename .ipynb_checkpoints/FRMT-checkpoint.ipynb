{
 "cells": [
  {
   "cell_type": "code",
   "execution_count": 1,
   "metadata": {
    "collapsed": false
   },
   "outputs": [
    {
     "name": "stdout",
     "output_type": "stream",
     "text": [
      ">gi|404553118|gb|JX295575.1| Anopheles sinensis prophenoloxidase 1 (PPO-1) mRNA, partial cds\n",
      "AACCTGCATCATTGGCATTGGCATCTTGTGTACCCGGGCGAAGGGCCCGATCGTGTCGTCAACAAGGATC\n",
      "GTCGTGGAGAGTTGTTCTACTACATGCACCAGCAGCTGATCGCTCGCTACAACGTCGATCGCTTCTGCAA\n",
      "CCGTTTGGCGCGGGTGCGTCCACTGACGAATCTGCGTGAGCCTCTTCCGGAGGGATACTTCCCGAAACTC\n",
      "ATCCGAAGCTTCACCAACCGTGCCTTCCCTGCCCGACCTCAGAACCATATGTTGAGGGATTTGAATCGCA\n",
      "TTGAGGACGATGTGGTACTCTCGATCAGTGATCTGGAACGCTGGGGAAGCCGCATTGCCGAGAGCATTGA\n",
      "TGGTGGATACGTGGTGGGCCCCGGTGGTGCACGTACTCCTCTGGATGAACAAACGGGTATCGACGTGCTG\n",
      "GGCAACATCATGGAACCGTCGGCACTGTCGGTGAACCCGCAATTCTATGGAAACTACCATGGCCATATGC\n",
      "ACAATCTCATCGCGTTCAGTCACGATCCTGAGAACCGCTTCCTGGAGGGGTACGGTGTGGTGGGCGAGTT\n",
      "CCAGACGGCCATGCGTGACCCTACGTTCTACCGCTGG\n"
     ]
    }
   ],
   "source": [
    "from Bio import Entrez\n",
    "from Bio import SeqIO\n",
    "\n",
    "with open('rosalind_frmt.txt') as fin:\n",
    "    IDs = fin.read().strip().split()\n",
    "\n",
    "Entrez.email = 'tamalarafat@gmail.com'\n",
    "handle = Entrez.efetch(db='nucleotide', id=IDs, rettype='fasta')\n",
    "all_records = list(SeqIO.parse(handle, 'fasta'))\n",
    "\n",
    "[lowest_seq] = [i for i in range(len(all_records)) if len(all_records[i]) == min([len(record.seq) for record in all_records])]\n",
    "\n",
    "handle_2 = Entrez.efetch(db='nucleotide', id=IDs, rettype='fasta')\n",
    "short_FASTA = handle_2.read().strip().split('\\n\\n')[lowest_seq]\n",
    "\n",
    "print (short_FASTA)\n",
    "with open('FRMT.txt', 'w') as output_data:\n",
    "    output_data.write(short_FASTA)"
   ]
  },
  {
   "cell_type": "code",
   "execution_count": null,
   "metadata": {
    "collapsed": false
   },
   "outputs": [],
   "source": [
    "%run FRMT.ipynb FRMT.txt w"
   ]
  },
  {
   "cell_type": "code",
   "execution_count": null,
   "metadata": {
    "collapsed": true
   },
   "outputs": [],
   "source": []
  }
 ],
 "metadata": {
  "anaconda-cloud": {},
  "kernelspec": {
   "display_name": "Python 3",
   "language": "python",
   "name": "python3"
  },
  "language_info": {
   "codemirror_mode": {
    "name": "ipython",
    "version": 3
   },
   "file_extension": ".py",
   "mimetype": "text/x-python",
   "name": "python",
   "nbconvert_exporter": "python",
   "pygments_lexer": "ipython3",
   "version": "3.5.1"
  }
 },
 "nbformat": 4,
 "nbformat_minor": 0
}
