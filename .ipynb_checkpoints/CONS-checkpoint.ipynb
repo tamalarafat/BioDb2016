{
 "cells": [
  {
   "cell_type": "markdown",
   "metadata": {},
   "source": [
    "CONS- Consensus and Profile\n",
    "        Finding a Most Likely Common Ancestor\n",
    "        A matrix is a rectangular table of values divided into rows and columns. An m×nm×n matrix has mm rows and nn columns. Given a matrix AA, we write Ai,jAi,j to indicate the value found at the intersection of row ii and column jj.\n",
    "\n",
    "Say that we have a collection of DNA strings, all having the same length nn. Their profile matrix is a 4×n4×n matrix PP in which P1,jP1,j represents the number of times that 'A' occurs in the jjth position of one of the strings, P2,jP2,j represents the number of times that C occurs in the jjth position, and so on (see below).\n",
    "\n",
    "A consensus string cc is a string of length nn formed from our collection by taking the most common symbol at each position; the jjth symbol of cc therefore corresponds to the symbol having the maximum value in the jj-th column of the profile matrix. Of course, there may be more than one most common symbol, leading to multiple possible consensus strings."
   ]
  },
  {
   "cell_type": "code",
   "execution_count": 4,
   "metadata": {
    "collapsed": false
   },
   "outputs": [
    {
     "name": "stdout",
     "output_type": "stream",
     "text": [
      "GATAGTCCCGTCTCCCAAGGGTGTATGCCTACGAATGATCGTAGTGTAATGGGGATCGTGATAGTTCGGCCATACGTGTCATCAGGCTTGGCTTTTGGTTGTACAGGTTTGCTTGTGTATTTTCGGGGTGACTTTTGTTAGTGGCCTGCTATTGTGCAATAGTGAATTTTCGAAACCTCTCCGGATACGTTTGAGGTGTTGGGCTTTGGTGCAGTTGTGGTGGGCAGCAGGGGTCTTCTGCCTGTGGGCAGGCATACTCCTAGCACTAAGGAAGCAACTACTAACGTCTTATTGCTGTGCGGTCGGAGCTTTTTTTCTGCGTGCTTTACCTCATACTTCGTGGGGTTTGTCCCCGGCCCTCGGATTTAAAGCTGTGGCCATGGCTTGGTCCCTAGTTTTAGTGACAGATGGGCTACAAGGCCGATGAATCGCGTCTTTAGCTCATGAATCAGTTAGCCGAGTCTTTTTTATTCATTAGTTATTGGCGGTGTTGCGGAGGACTGCTTCGGCGGGCCCTGCTAACTCATTGTGTCAGCTTACATTTAGCCCCGCTGTCGAGCCTGTGGCCCTTCGCGCGTGCGTCTAGCAATTCCTATCTTATGAGATTCACGGACGGGTTCACGACGTTGTGTACTGGTCCTTTCGCGAAGGCAACACTTCGGGTCAATGAGTCAATGCCATTAAAGGCTGGGAAACGGCCAATGAATTGTCTACCATCCTTAGCCCGAGTTTGTTCTTTGCAGGGGGGCTTCAATCATACGGTCTCGGCCGCATTGAAGCCTAGCCGCGGTATAGGGGGCAGGGTTGACTTGCTGAGTTTTACGAGTCCTTTGTTCCGGTATAGTCGTTCTCGTTTATCGATAAGGGCTCACTTACGAGGAAGGTTGTCAGGGTGTGTTTACTTCTGCTCCCCGGTTCCTGTTAATCTCGGCAGAGGCCGTAGATCTTGCTTTATGTGGTTCGCCTCGCT\n",
      "A: 1 4 2 4 3 2 1 1 2 0 2 3 1 4 1 0 4 6 1 2 2 2 2 1 4 3 2 2 1 1 4 3 3 4 4 2 2 4 1 1 4 2 4 1 3 3 2 4 5 1 3 3 3 2 6 1 2 1 2 1 4 1 5 3 2 2 1 2 1 4 2 5 1 6 1 1 3 1 2 2 5 0 3 5 2 3 2 3 2 1 2 3 1 1 3 1 3 2 1 2 2 3 6 4 5 2 2 3 4 3 0 3 3 1 2 3 2 3 5 1 1 3 0 3 3 1 3 0 1 1 5 2 2 3 1 3 2 0 1 4 3 1 3 3 1 4 3 1 3 3 6 2 2 2 1 1 1 4 4 2 4 2 3 2 5 4 2 1 3 2 3 3 4 5 5 3 2 3 2 0 4 2 3 1 4 1 4 3 2 1 2 1 2 5 1 2 2 2 2 2 1 2 2 0 1 2 1 3 2 3 3 1 5 1 0 1 3 3 3 0 2 1 3 1 0 5 2 1 4 2 1 3 3 2 2 4 2 3 2 1 2 3 2 2 1 3 3 3 2 4 2 3 2 4 2 4 2 2 1 1 2 6 3 4 4 2 2 4 4 1 4 6 5 1 3 4 4 0 0 5 1 2 6 6 3 2 2 0 3 2 5 2 2 1 2 1 3 3 2 1 1 1 2 2 1 1 5 4 3 2 1 3 2 1 3 3 3 1 0 0 3 2 1 2 1 1 3 4 3 0 2 2 4 3 5 3 2 2 2 3 3 2 2 2 0 2 1 2 1 1 3 2 1 1 1 2 2 2 2 0 3 3 3 4 3 3 1 4 4 6 0 2 3 0 2 1 2 1 2 5 1 3 0 4 3 2 1 2 3 1 2 2 2 4 1 2 2 2 2 5 2 3 3 5 2 4 2 5 3 3 1 2 1 1 4 2 5 4 3 2 1 2 3 4 2 2 4 4 2 3 2 2 2 2 2 3 0 3 5 3 3 2 2 4 2 2 4 6 1 3 4 4 2 1 5 1 1 3 1 4 3 3 2 2 3 2 2 2 2 4 3 2 1 4 2 1 6 2 3 2 4 0 3 0 4 2 1 0 1 1 0 3 4 1 0 3 5 4 2 5 2 2 2 1 3 2 3 1 1 2 0 3 4 3 4 2 1 2 3 1 4 6 3 1 1 4 1 1 3 3 2 2 2 4 3 0 1 2 5 4 4 1 3 3 6 2 3 0 2 1 2 3 2 2 1 3 1 5 0 3 3 3 1 1 3 2 2 1 3 4 2 1 3 1 3 3 2 2 2 3 2 3 3 3 5 4 2 4 4 2 1 1 1 1 5 2 0 1 2 4 1 2 4 4 4 3 3 3 4 2 3 1 4 4 3 3 2 2 2 3 4 3 1 4 4 4 2 3 4 2 4 3 4 3 3 3 2 2 2 1 1 3 0 3 3 3 1 5 4 2 2 2 6 5 1 6 3 3 1 1 1 3 1 2 1 5 4 3 1 5 2 3 2 4 5 1 3 0 3 4 3 3 4 4 4 2 1 3 3 2 3 1 4 6 4 3 1 0 3 3 4 4 4 2 4 4 1 2 2 2 4 2 4 1 0 4 1 0 3 3 2 6 1 2 1 3 2 5 2 1 3 2 2 3 2 3 3 2 3 3 2 4 3 0 1 3 3 4 3 1 3 2 5 4 3 3 4 2 4 3 2 2 3 4 3 2 2 2 3 0 1 2 4 3 3 2 4 4 2 2 2 0 5 3 0 3 2 2 3 2 3 4 1 4 3 1 2 1 2 3 6 2 2 1 1 1 2 4 1 1 3 0 2 3 3 7 2 2 3 2 1 5 2 2 4 2 0 2 3 2 1 3 3 3 2 3 0 2 2 3 4 2 4 1 2 2 3 1 4 0 3 3 2 3 2 1 5 2 2 1 4 2 4 5 1 3 1 2 0 2 5 2 3 2 6 1 2 4 3 4 4 5 2 2 2 3 1 1 2 4 1 2 3 0 3 2 0 0 3 3 5 2 4 2 2 2 0 1 3 0 3 2 4 4 2 0 1 3 1 2 2 3 3 5 4 2 1 3 3 2 2 3 4 2 4 4 0 2 3 2 3 5 3 4 3 4 1 2 0 4 2 4 2 4 4 2 3 2 1 3 0 3 1 2 2 3 1 3 1 1\n",
      "C: 3 1 2 2 1 1 5 4 4 2 3 3 3 4 6 4 0 1 2 3 2 2 3 3 3 1 1 4 7 2 3 5 1 1 0 2 3 2 1 5 0 3 2 3 2 2 3 1 1 1 2 1 2 3 2 1 4 2 3 3 3 1 1 0 0 1 6 3 2 4 4 2 3 2 4 1 3 2 1 4 2 3 4 2 3 2 6 2 3 3 2 4 3 3 1 3 1 2 1 2 3 2 2 5 3 2 1 1 2 2 4 4 1 2 1 1 2 2 3 3 3 3 3 6 2 4 2 4 1 2 3 4 1 3 4 1 3 2 3 3 2 2 2 1 4 4 2 2 4 1 0 3 3 1 0 2 4 3 2 2 2 1 3 3 1 2 2 1 2 3 3 2 1 2 1 3 4 1 4 2 4 4 2 3 2 3 3 4 3 3 3 2 1 2 2 2 2 2 2 3 2 1 2 5 3 2 1 3 3 1 3 5 1 2 1 1 0 2 3 4 2 2 2 2 5 2 3 5 2 0 2 1 2 4 5 0 1 3 2 1 4 4 2 3 1 0 3 3 6 3 2 2 5 2 4 3 4 2 4 5 3 3 2 4 3 4 3 1 3 3 1 2 1 1 4 3 2 5 1 0 4 2 1 1 4 3 2 5 2 2 1 1 3 3 5 3 3 2 1 6 2 3 1 4 3 2 1 2 5 3 1 1 0 3 3 0 5 1 4 5 1 1 3 4 3 4 1 3 4 6 1 7 2 2 2 7 2 1 5 3 1 1 0 3 1 2 2 2 0 1 4 4 4 4 2 4 4 4 5 3 3 2 1 3 1 1 3 2 2 1 3 5 1 4 2 3 2 6 5 1 1 2 4 4 1 0 2 1 2 6 4 6 2 3 1 3 2 2 0 0 3 2 3 3 4 2 3 2 2 1 1 2 4 3 1 6 1 3 1 2 5 6 2 2 2 2 1 1 3 3 3 4 2 2 4 2 4 2 2 3 3 3 5 2 3 2 3 2 2 3 3 2 4 4 2 2 5 4 1 2 3 1 4 1 3 0 1 3 2 2 1 1 4 3 2 3 0 4 1 3 2 3 2 1 0 6 1 1 3 1 3 2 2 6 4 3 1 1 3 2 5 3 1 5 0 3 3 3 1 4 2 2 2 4 4 6 0 3 4 3 2 1 4 3 5 2 1 2 3 3 3 2 5 2 0 4 0 2 1 4 1 3 1 2 0 3 5 5 4 5 2 4 3 1 3 4 2 0 3 4 5 2 4 2 2 1 4 5 3 1 1 5 2 4 2 4 2 3 3 4 2 1 5 3 2 1 5 3 2 2 2 4 6 1 2 3 5 2 2 2 4 3 2 0 2 1 3 4 2 5 1 0 2 4 2 2 3 3 1 5 2 4 2 3 4 1 1 1 0 2 1 2 3 3 2 1 1 4 4 4 0 1 4 4 2 3 2 4 3 0 3 4 2 1 4 2 5 0 4 4 1 1 0 1 4 2 0 1 1 1 3 2 6 3 1 3 2 4 6 1 1 3 1 1 2 3 2 3 2 3 2 2 3 0 1 4 2 3 3 3 2 1 0 1 2 0 3 1 3 0 4 1 2 4 5 3 1 4 4 2 1 2 2 4 7 5 2 3 2 2 3 3 3 3 2 5 3 1 2 2 4 3 2 2 4 3 3 1 4 4 3 8 1 2 3 3 3 2 2 4 1 3 3 4 2 4 3 0 4 5 3 4 3 3 2 3 3 0 3 5 4 3 1 2 5 4 3 4 2 1 3 3 3 2 0 2 2 4 2 3 2 3 3 4 3 4 1 2 4 1 1 1 4 1 0 0 1 1 1 0 2 1 6 2 2 1 4 4 3 3 2 0 2 2 3 3 5 3 1 3 3 3 2 2 2 4 3 1 1 4 1 4 2 1 3 3 1 3 6 0 3 2 3 2 3 1 2 4 4 6 2 4 1 2 0 7 3 2 3 2 2 1 1 2 3 1 2 3 4 3 4 3 2 1 2 3 4 0 1 2 2 4 0 1 5 2 3 5 1 5 4 4 4 0 3 1 3 3 6 3 3 1 3 1 1 1 6 1 3 3 2 3 2 0 3 2 2 5 4 2 0 3 2 1 2 5 2 2 1 5 3 0 2 2 1 3 1 2 3 2 2 4 0 6 5 1 4 2 4 2\n",
      "G: 4 3 2 3 5 2 0 3 3 7 2 2 2 1 1 3 3 1 5 3 4 2 3 3 2 3 4 3 1 3 1 0 5 2 3 1 5 2 4 2 4 1 1 5 1 5 2 3 3 3 3 4 4 3 1 3 1 4 2 5 3 3 3 4 4 2 2 3 5 1 3 1 1 2 3 5 1 4 3 1 0 2 1 2 3 4 2 0 2 4 4 2 2 2 2 2 4 4 4 2 4 1 0 1 0 4 4 1 0 2 5 3 3 0 6 3 4 0 2 3 1 1 2 0 4 4 3 4 3 5 0 2 2 1 1 2 3 4 1 2 3 3 4 5 3 2 2 4 1 2 0 2 2 5 4 5 3 2 2 1 1 5 1 3 2 3 2 3 2 2 2 4 2 1 2 2 1 3 1 4 1 3 3 5 3 2 0 2 4 1 2 3 4 2 4 4 2 4 3 2 4 4 4 1 2 3 4 3 3 2 3 1 2 4 2 2 4 1 3 4 0 4 3 4 2 2 4 1 3 5 4 4 3 0 1 2 3 2 2 5 1 1 3 4 3 5 3 3 1 2 4 3 3 2 0 1 3 3 3 1 1 1 4 0 2 2 1 2 1 6 4 1 3 7 3 2 1 3 4 2 2 3 1 0 2 3 3 2 1 3 3 3 1 4 2 3 3 1 4 2 4 5 3 1 5 4 3 4 1 2 3 3 1 3 1 3 2 1 5 1 5 3 4 1 2 1 3 2 1 2 2 0 3 2 1 0 1 3 0 4 3 4 5 3 7 1 3 2 5 3 1 3 2 2 4 4 2 1 0 2 2 3 5 1 3 2 3 1 2 1 5 2 1 4 0 6 4 2 3 1 3 3 4 2 2 4 4 5 2 1 2 1 1 1 6 1 1 3 4 2 3 2 3 1 2 3 3 2 1 6 6 5 2 2 2 1 3 3 4 4 1 1 4 3 2 4 2 2 2 2 3 1 4 1 3 1 0 2 2 3 2 0 2 3 1 5 2 0 3 2 1 4 0 1 3 4 1 0 5 1 3 2 2 3 1 3 3 2 3 2 3 3 3 1 3 2 2 4 1 1 1 1 1 5 5 2 6 6 1 7 3 1 4 3 5 3 2 4 5 3 1 2 4 3 3 1 2 4 5 3 5 4 4 0 1 1 4 3 2 1 2 2 2 2 2 3 3 1 4 1 4 2 0 2 6 3 3 3 2 1 3 3 3 1 2 3 1 1 1 1 4 1 2 4 3 2 5 4 4 1 0 1 4 2 3 4 1 2 2 1 3 1 3 3 3 2 4 1 4 2 4 2 1 1 0 5 3 2 3 1 3 3 1 3 3 1 1 1 3 2 0 4 2 4 2 1 1 0 2 2 5 5 3 1 4 4 3 2 1 1 1 1 4 0 1 4 3 0 4 3 4 2 1 2 2 5 5 0 1 3 3 3 1 1 3 2 4 0 1 5 5 3 0 3 2 0 1 2 1 3 6 4 8 3 2 1 3 2 5 2 4 2 1 1 2 1 4 3 0 2 0 1 3 2 1 5 4 2 2 4 3 5 2 1 3 1 4 5 2 2 2 2 1 5 3 3 3 2 3 2 2 1 2 3 1 1 3 3 1 2 0 1 4 2 2 1 4 1 4 3 1 2 3 1 2 1 0 3 1 3 1 2 4 5 4 3 4 4 0 1 1 0 1 3 1 2 1 1 1 0 5 3 1 0 2 2 4 6 1 4 4 3 3 1 1 3 3 3 3 0 1 3 2 4 2 2 4 2 3 4 1 2 2 2 4 5 4 4 4 2 1 4 3 4 3 1 5 2 2 2 2 5 3 2 4 2 6 3 2 4 3 2 1 4 2 4 2 3 2 2 3 2 3 2 2 2 2 4 4 1 1 2 2 6 3 2 3 2 1 3 3 1 4 3 2 2 0 2 1 5 2 2 2 0 4 5 4 3 2 1 1 2 2 2 2 0 3 2 3 4 1 1 4 5 2 3 4 3 3 2 5 3 3 3 3 1 4 5 0 2 1 1 1 3 2 1 4 2 3 3 1 2 1 4 3 3 2 2 1 1 3 2 0 2 2 2 0 3 2 4 5 2 1 7 2 4 5 1 3 5 2 1 4 3 1 1 1 2 5 1 2 1 3 3 1 3 3 4 4 2 2 1 6 1 0 2 3 3 2 2\n",
      "T: 2 2 4 1 1 5 4 2 1 1 3 2 4 1 2 3 3 2 2 2 2 4 2 3 1 3 3 1 1 4 2 2 1 3 3 5 0 2 4 2 2 4 3 1 4 0 3 2 1 5 2 2 1 2 1 5 3 3 3 1 0 5 1 3 4 5 1 2 2 1 1 2 5 0 2 3 3 3 4 3 3 5 2 1 2 1 0 5 3 2 2 1 4 4 4 4 2 2 4 4 1 4 2 0 2 2 3 5 4 3 1 0 3 7 1 3 2 5 0 3 5 3 5 1 1 1 2 2 5 2 2 2 5 3 4 4 2 4 5 1 2 4 1 1 2 0 3 3 2 4 4 3 3 2 5 2 2 1 2 5 3 2 3 2 2 1 4 5 3 3 2 1 3 2 2 2 3 3 3 4 1 1 2 1 1 4 3 1 1 5 3 4 3 1 3 2 4 2 3 3 3 3 2 4 4 3 4 1 2 4 1 3 2 3 7 6 3 4 1 2 6 3 2 3 3 1 1 3 1 3 3 2 2 4 2 4 4 2 4 3 3 2 3 1 5 2 1 1 1 1 2 2 0 2 4 2 1 3 2 3 4 0 1 2 1 2 4 3 2 0 1 1 1 1 0 1 3 2 5 3 3 3 2 3 1 2 3 3 4 3 1 4 4 2 1 3 1 4 3 1 3 1 4 3 1 3 1 0 1 3 5 3 7 3 3 4 0 7 1 4 1 4 2 3 4 4 3 1 2 2 5 1 1 3 2 0 5 4 3 0 3 3 3 2 2 5 4 4 4 5 2 1 3 3 3 0 2 3 3 5 2 2 1 2 3 4 3 3 2 2 2 1 5 2 6 0 2 1 0 3 5 2 2 0 4 4 3 2 3 2 2 1 5 2 2 4 5 3 4 3 2 3 1 1 2 1 2 1 4 0 2 1 3 4 3 1 1 0 2 2 3 1 1 1 4 2 3 3 3 2 2 3 2 5 1 4 6 3 1 1 2 5 1 1 4 1 1 2 4 2 2 0 4 4 0 3 3 3 3 3 1 4 2 4 3 5 4 3 3 2 3 4 2 2 3 4 2 0 5 4 3 6 4 4 1 0 2 3 5 1 4 4 0 0 1 1 2 1 0 0 2 3 3 1 4 4 2 2 3 1 3 1 0 3 1 1 5 2 1 5 2 1 1 4 2 1 5 6 0 3 1 4 3 2 1 3 6 3 2 1 2 3 3 4 2 2 1 4 3 3 2 2 3 3 3 1 2 1 3 2 2 4 1 5 2 3 3 2 2 4 4 3 2 2 2 1 2 4 1 1 2 4 1 3 3 0 0 1 1 5 4 2 2 5 0 4 4 6 3 2 5 1 2 2 2 5 3 3 2 1 1 4 1 1 1 1 2 3 6 1 3 2 3 3 1 1 4 6 2 3 1 3 2 2 3 1 2 4 3 2 6 3 5 2 2 2 3 1 2 3 0 1 2 1 3 2 1 5 4 2 2 2 1 4 3 2 3 4 3 2 1 3 1 2 2 5 1 3 1 3 6 3 2 3 3 0 3 2 3 1 2 2 1 3 2 2 3 2 2 2 2 3 5 2 1 3 3 5 2 6 0 6 2 2 4 2 5 3 2 3 7 1 3 2 0 1 2 1 2 4 3 3 2 3 4 1 4 4 4 2 3 1 1 3 1 1 0 1 3 4 3 0 3 1 3 2 2 5 3 3 2 2 3 2 3 2 1 2 2 1 2 1 0 3 4 2 0 3 2 3 3 4 2 1 3 1 1 2 2 3 3 1 4 2 3 2 2 1 2 2 1 1 2 1 3 4 2 2 3 6 4 4 1 4 3 1 1 4 4 4 4 2 1 2 2 3 4 1 2 3 4 5 2 3 3 2 3 1 3 3 2 3 2 1 3 2 1 6 4 3 3 2 2 3 3 4 4 3 1 4 1 4 1 3 2 1 3 1 4 1 2 2 4 4 2 2 2 2 1 0 3 3 3 1 3 3 3 3 1 1 0 2 2 6 2 4 2 5 6 3 2 3 5 4 1 5 3 2 3 2 2 2 1 2 2 6 4 2 2 4 2 4 4 2 3 5 3 3 2 1 1 2 3 1 1 0 3 2 0 1 5 1 1 2 4 0 6 4 4 0 3 5 3 1 4 2 3 2 2 3 6 2 3 1 3 4 2 2 3 5\n"
     ]
    }
   ],
   "source": [
    "import sys\n",
    "from collections import OrderedDict\n",
    "\n",
    "def crt_fasta(file): \n",
    "    with open('rosalind_cons (1).txt') as fin:        \n",
    "        file_part = None        \n",
    "        while True:            \n",
    "            line = fin.readline()           \n",
    "            if not line:               \n",
    "                if file_part is not None:\n",
    "                    yield ''.join(file_part)                \n",
    "                break            \n",
    "            if line.startswith('>'):                \n",
    "                if file_part is not None:\n",
    "                    yield ''.join(file_part)                \n",
    "                file_part = []\n",
    "            else:                \n",
    "                file_part.append(line.strip())\n",
    "\n",
    "def matrix_profile(seqs):   \n",
    "    mat_prf = OrderedDict.fromkeys(('A', 'C', 'G', 'T',))    \n",
    "    for seq in seqs:        \n",
    "        if not mat_prf['A']:\n",
    "            for key in mat_prf:\n",
    "                mat_prf[key] = [0] * len(seq)        \n",
    "        for i, c in enumerate(seq):            \n",
    "            mat_prf[c][i] += 1\n",
    "   \n",
    "    return mat_prf\n",
    "\n",
    "def con_str(mat_prf):    \n",
    "    op = []    \n",
    "    for i in range(len(mat_prf['A'])):\n",
    "        m_repeats, m_char = 0, ''                  # initialize/reset counters\n",
    "        for c in mat_prf:                          # now cycle over the keys for this index\n",
    "            if mat_prf[c][i] >= m_repeats:         # update counters\n",
    "                m_repeats = mat_prf[c][i]\n",
    "                m_char = c\n",
    "        op.append(m_char)                          # append largest-counted char to result\n",
    "   \n",
    "    return ''.join(op)                             # return all the chars as a single string\n",
    "\n",
    "if __name__ == '__main__':\n",
    "    try:        \n",
    "        file_name = sys.argv[1]                    # read filename from commandline arguments\n",
    "    \n",
    "    except IndexError:\n",
    "        print('Missing filename', file=sys.stderr) # if the argument is missing sys.argv will only contain one element\n",
    "        sys.exit(1)\n",
    "    \n",
    "    m_fasta_seq = crt_fasta(file_name)\n",
    "    mat_profile = matrix_profile(m_fasta_seq)\n",
    "    concensus_string = con_str(mat_profile)    \n",
    "    print(concensus_string)\n",
    "    \n",
    "    for key, chars in mat_profile.items():\n",
    "        print('{}: {}'.format(key, ' '.join(str(char) for char in chars)))\n"
   ]
  },
  {
   "cell_type": "code",
   "execution_count": null,
   "metadata": {
    "collapsed": true
   },
   "outputs": [],
   "source": []
  }
 ],
 "metadata": {
  "anaconda-cloud": {},
  "kernelspec": {
   "display_name": "Python 3",
   "language": "python",
   "name": "python3"
  },
  "language_info": {
   "codemirror_mode": {
    "name": "ipython",
    "version": 3
   },
   "file_extension": ".py",
   "mimetype": "text/x-python",
   "name": "python",
   "nbconvert_exporter": "python",
   "pygments_lexer": "ipython3",
   "version": "3.5.1"
  }
 },
 "nbformat": 4,
 "nbformat_minor": 0
}
