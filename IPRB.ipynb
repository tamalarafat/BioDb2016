{
 "cells": [
  {
   "cell_type": "code",
   "execution_count": null,
   "metadata": {
    "collapsed": false
   },
   "outputs": [],
   "source": [
    "def Mendel_law(x1,x2,x3):\n",
    "\n",
    "    x1,x2,x3 = map(float, (x1,x2,x3))\n",
    "    total = x1+x2+x3\n",
    "    px1 = x1/total\n",
    "    px2 = x2/total\n",
    "    px3 = x3/total\n",
    "\n",
    "    \n",
    "    prob = 1 ## Max probability\n",
    "    prob -= px3*((x3-1)/(total-1)) #homozygous recessive\n",
    "    prob -= 2*px3*(x2/(total-1))*0.5   #one homozygous recessive & one heterozygous recessive, (e.g. Aa * aa & aa * Aa)\n",
    "    prob -= px2*((x2-1)/(total-1))*0.25 #heterozygous recessive\n",
    "\n",
    "    return prob\n",
    "Mendel_law(24, 21, 24)"
   ]
  },
  {
   "cell_type": "code",
   "execution_count": null,
   "metadata": {
    "collapsed": true
   },
   "outputs": [],
   "source": []
  }
 ],
 "metadata": {
  "anaconda-cloud": {},
  "kernelspec": {
   "display_name": "Python 3",
   "language": "python",
   "name": "python3"
  },
  "language_info": {
   "codemirror_mode": {
    "name": "ipython",
    "version": 3
   },
   "file_extension": ".py",
   "mimetype": "text/x-python",
   "name": "python",
   "nbconvert_exporter": "python",
   "pygments_lexer": "ipython3",
   "version": "3.5.1"
  }
 },
 "nbformat": 4,
 "nbformat_minor": 0
}
