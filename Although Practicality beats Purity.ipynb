{
 "cells": [
  {
   "cell_type": "code",
   "execution_count": null,
   "metadata": {
    "collapsed": true
   },
   "outputs": [],
   "source": [
    "def HAMM(x, y):\n",
    "    count = []\n",
    "    for i, j  in zip(x,y): \n",
    "        if i==j:\n",
    "            count.append(i)\n",
    "                \n",
    "    return count\n",
    "\n",
    "seq1 = 'tamal'\n",
    "seq2 = 'yasir'\n",
    "HAMM(seq1, seq2)"
   ]
  },
  {
   "cell_type": "code",
   "execution_count": null,
   "metadata": {
    "collapsed": true
   },
   "outputs": [],
   "source": [
    "string_a = \"tamal\"\n",
    "\n",
    "string_b = \"yasir\"\n",
    "\n",
    "same = []\n",
    "\n",
    "a_len = len(string_a)\n",
    "b_len = len(string_b)\n",
    "\n",
    "for a in string_a:\n",
    "    for b in string_b:\n",
    "\n",
    "        if a == b:\n",
    "            same.append(b)          \n",
    "\n",
    "print (same)"
   ]
  }
 ],
 "metadata": {
  "kernelspec": {
   "display_name": "Python 3",
   "language": "python",
   "name": "python3"
  },
  "language_info": {
   "codemirror_mode": {
    "name": "ipython",
    "version": 3
   },
   "file_extension": ".py",
   "mimetype": "text/x-python",
   "name": "python",
   "nbconvert_exporter": "python",
   "pygments_lexer": "ipython3",
   "version": "3.5.1"
  }
 },
 "nbformat": 4,
 "nbformat_minor": 0
}
