##HAMM	Counting Point Mutations
def HAMM(x, y):
    count = 0
    for i, j  in zip(x,y): 
        if i!=j:
            count = count + 1
                
    return count
seq1 = 'GAGCCTACTAACGGGAT'
seq2 = 'CATCGTAATGACGGCCT'
HAMM(seq1, seq2)