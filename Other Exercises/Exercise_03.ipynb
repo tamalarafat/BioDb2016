{
 "cells": [
  {
   "cell_type": "code",
   "execution_count": null,
   "metadata": {
    "collapsed": false
   },
   "outputs": [],
   "source": [
    "import string\n",
    "strn = string.ascii_lowercase\n",
    "\n",
    "\n",
    "def my_print():\n",
    "    print(strn[2])\n",
    "    print(strn[4])\n",
    "    print(strn[6])\n",
    "    print(strn[7])\n",
    "    print(strn[8])\n",
    "    print(strn[9])\n",
    "\n",
    "my_print()"
   ]
  },
  {
   "cell_type": "code",
   "execution_count": null,
   "metadata": {
    "collapsed": false
   },
   "outputs": [],
   "source": [
    "def first(x):\n",
    "    if type(x)!=tuple and type(x)!=list:\n",
    "        return x\n",
    "    else:\n",
    "        return x[0]\n",
    "    \n",
    "x = [5,2]\n",
    "first(x)"
   ]
  },
  {
   "cell_type": "code",
   "execution_count": null,
   "metadata": {
    "collapsed": false
   },
   "outputs": [],
   "source": [
    "print (\"Actual Number = %.5f\" %1234.56789)\n",
    "print (\"Int Number = %d\" %1234.56789)\n",
    "print (\"Float of the number = %.1f\" %1234.56789)\n",
    "print (\"Float of the number = %.2f\" %1234.56789)\n",
    "print (\"Float of the number = %.3f\" %1234.56789)"
   ]
  },
  {
   "cell_type": "code",
   "execution_count": null,
   "metadata": {
    "collapsed": false
   },
   "outputs": [],
   "source": [
    "greetings = {'spanish': 'hola','german': 'hallo','english': 'good day','american': 'howdy'}\n",
    "\n",
    "#for element in greetings:\n",
    "    #print(greetings.keys, greetings.values)\n",
    "for item in greetings.items():\n",
    "    print(item)"
   ]
  },
  {
   "cell_type": "code",
   "execution_count": null,
   "metadata": {
    "collapsed": false
   },
   "outputs": [],
   "source": [
    "def get_seconds(x):\n",
    "    m_list = []\n",
    "    for i in x:\n",
    "        m_list.append(i[1])\n",
    "    return m_list\n",
    "pairs = [[1, 2], [3, 4], [5, 6]]\n",
    "get_seconds(pairs)"
   ]
  },
  {
   "cell_type": "code",
   "execution_count": null,
   "metadata": {
    "collapsed": false
   },
   "outputs": [],
   "source": [
    "def biggest_key(x):\n",
    "    t = max(x.values())\n",
    "    for k, v in x.items():\n",
    "        if v==t:\n",
    "            return k\n",
    "power_levels = {'Christian': 9001,'Charlie': 6,'Nanditha': 6.1}\n",
    "biggest_key(power_levels)"
   ]
  },
  {
   "cell_type": "code",
   "execution_count": null,
   "metadata": {
    "collapsed": false
   },
   "outputs": [],
   "source": [
    "def div7(n):\n",
    "    t_list = []\n",
    "    for i in range(n):\n",
    "        if i < n and i%7==0:\n",
    "            t_list.append(i)\n",
    "            \n",
    "    return t_list\n",
    "n = 29\n",
    "div7(n)"
   ]
  },
  {
   "cell_type": "code",
   "execution_count": null,
   "metadata": {
    "collapsed": false
   },
   "outputs": [],
   "source": [
    "def flatten(x):\n",
    "    m_list = []\n",
    "    for i in x:\n",
    "        m_list.extend(i)\n",
    "    return m_list\n",
    "l = [[1,2,3],['a','b','c'],[7,8,9]]\n",
    "flatten(l)\n"
   ]
  },
  {
   "cell_type": "code",
   "execution_count": null,
   "metadata": {
    "collapsed": false
   },
   "outputs": [],
   "source": [
    "def cartesian(x,y):\n",
    "    m_list = []\n",
    "    for i in x:\n",
    "        for j in y:\n",
    "            k = (i, j)\n",
    "            m_list.append(k)\n",
    "    return m_list\n",
    "\n",
    "x = [1,2,3]\n",
    "y = ['a', 'b']\n",
    "cartesian(x, y)"
   ]
  },
  {
   "cell_type": "code",
   "execution_count": null,
   "metadata": {
    "collapsed": false
   },
   "outputs": [],
   "source": [
    "def remove_all(my_list, element):\n",
    "    while element in my_list:\n",
    "        my_list.remove(element)\n",
    "    return my_list\n",
    "\n",
    "x = [1, 2, 3, 2, 3, 4, 3, 5]\n",
    "remove_all(x, 2)"
   ]
  },
  {
   "cell_type": "code",
   "execution_count": null,
   "metadata": {
    "collapsed": false
   },
   "outputs": [],
   "source": [
    "def my_combination(x):\n",
    "    m_list = []\n",
    "    for i in x:\n",
    "        for j in x:\n",
    "            if i == j:\n",
    "                pass\n",
    "            else:\n",
    "                k = (i, j)\n",
    "                m_list.append(k)\n",
    "    return m_list\n",
    "x = [1, 2, 3, 4]\n",
    "my_combination(x)"
   ]
  },
  {
   "cell_type": "code",
   "execution_count": null,
   "metadata": {
    "collapsed": false
   },
   "outputs": [],
   "source": [
    "def my_combinations(x):\n",
    "    m_list = []\n",
    "    for i in x:\n",
    "        for j in x:\n",
    "            if i != j:\n",
    "                k = [i,j]\n",
    "                if k not in m_list and k.reverse() not in m_list:\n",
    "                    m_list.append(k)\n",
    "    return m_list\n",
    "x = [1, 2, 3, 4]\n",
    "my_combinations(x)"
   ]
  },
  {
   "cell_type": "code",
   "execution_count": null,
   "metadata": {
    "collapsed": true
   },
   "outputs": [],
   "source": [
    "def cumsum(n):\n",
    "    start = 0\n",
    "    ls = []\n",
    "    for i in range(n):\n",
    "        start += i\n",
    "        ls.append(start)\n",
    "    return ls \n",
    "cumsum(5)"
   ]
  }
 ],
 "metadata": {
  "kernelspec": {
   "display_name": "Python 3",
   "language": "python",
   "name": "python3"
  },
  "language_info": {
   "codemirror_mode": {
    "name": "ipython",
    "version": 3
   },
   "file_extension": ".py",
   "mimetype": "text/x-python",
   "name": "python",
   "nbconvert_exporter": "python",
   "pygments_lexer": "ipython3",
   "version": "3.5.1"
  }
 },
 "nbformat": 4,
 "nbformat_minor": 0
}
